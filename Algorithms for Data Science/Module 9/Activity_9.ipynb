{
 "cells": [
  {
   "cell_type": "markdown",
   "metadata": {},
   "source": [
    "# Module 9 Activity"
   ]
  },
  {
   "cell_type": "markdown",
   "metadata": {},
   "source": [
    "In the lecture notes we have discussed many types of Machine Learning algorithms and how to implement them. An important next step in understand models is to diagnose and address issues with the model performance. Validation curves are a powerful tool in the machine learning workflow, helping to diagnose and address issues like overfitting, underfitting, and the adequacy of the dataset size. Understanding how these curves work can guide you in making informed adjustments to your model."
   ]
  },
  {
   "cell_type": "markdown",
   "metadata": {},
   "source": [
    "__Validation curves__ plot training and validation scores (such as accuracy, F1 score, etc.) against varying values of a model parameter or the number of training examples. This graphical representation helps in understanding how changes in the model's complexity or the training set size affect its performance."
   ]
  },
  {
   "cell_type": "markdown",
   "metadata": {},
   "source": [
    "__Overfitting__ occurs when a model performs well on the training data but poorly on unseen data (validation set). In a validation curve, overfitting is indicated when the training score is high but the validation score is significantly lower, especially as the model complexity increases.\n",
    "\n",
    "__Underfitting__ is when a model cannot capture the underlying pattern of the data, resulting in poor performance on both the training and validation datasets. On a validation curve, underfitting is shown by both training and validation scores being low but possibly converging at a point of low complexity."
   ]
  },
  {
   "cell_type": "markdown",
   "metadata": {},
   "source": [
    "Your task for this activity is to use the MNIST training dataset (train.csv file) to create a random forest classifier and create validation curves to determine if any underfitting or overfitting has occured. You may want to reduce the dataset by some factor to help with processing speed. Ensure you have a representative set and account for both the $X$ and $y$ values. "
   ]
  },
  {
   "cell_type": "code",
   "execution_count": 2,
   "metadata": {},
   "outputs": [],
   "source": [
    "# Import needed libraries\n",
    "import pandas as pd\n",
    "import numpy as np\n",
    "from sklearn.model_selection import train_test_split, cross_val_score, validation_curve\n",
    "from sklearn.ensemble import RandomForestClassifier\n",
    "import matplotlib.pyplot as plt\n",
    "import random"
   ]
  },
  {
   "cell_type": "code",
   "execution_count": 3,
   "metadata": {},
   "outputs": [
    {
     "data": {
      "text/plain": [
       "<bound method NDFrame.head of        label  pixel0  pixel1  pixel2  pixel3  pixel4  pixel5  pixel6  pixel7  \\\n",
       "0          1       0       0       0       0       0       0       0       0   \n",
       "1          0       0       0       0       0       0       0       0       0   \n",
       "2          1       0       0       0       0       0       0       0       0   \n",
       "3          4       0       0       0       0       0       0       0       0   \n",
       "4          0       0       0       0       0       0       0       0       0   \n",
       "...      ...     ...     ...     ...     ...     ...     ...     ...     ...   \n",
       "41995      0       0       0       0       0       0       0       0       0   \n",
       "41996      1       0       0       0       0       0       0       0       0   \n",
       "41997      7       0       0       0       0       0       0       0       0   \n",
       "41998      6       0       0       0       0       0       0       0       0   \n",
       "41999      9       0       0       0       0       0       0       0       0   \n",
       "\n",
       "       pixel8  ...  pixel774  pixel775  pixel776  pixel777  pixel778  \\\n",
       "0           0  ...         0         0         0         0         0   \n",
       "1           0  ...         0         0         0         0         0   \n",
       "2           0  ...         0         0         0         0         0   \n",
       "3           0  ...         0         0         0         0         0   \n",
       "4           0  ...         0         0         0         0         0   \n",
       "...       ...  ...       ...       ...       ...       ...       ...   \n",
       "41995       0  ...         0         0         0         0         0   \n",
       "41996       0  ...         0         0         0         0         0   \n",
       "41997       0  ...         0         0         0         0         0   \n",
       "41998       0  ...         0         0         0         0         0   \n",
       "41999       0  ...         0         0         0         0         0   \n",
       "\n",
       "       pixel779  pixel780  pixel781  pixel782  pixel783  \n",
       "0             0         0         0         0         0  \n",
       "1             0         0         0         0         0  \n",
       "2             0         0         0         0         0  \n",
       "3             0         0         0         0         0  \n",
       "4             0         0         0         0         0  \n",
       "...         ...       ...       ...       ...       ...  \n",
       "41995         0         0         0         0         0  \n",
       "41996         0         0         0         0         0  \n",
       "41997         0         0         0         0         0  \n",
       "41998         0         0         0         0         0  \n",
       "41999         0         0         0         0         0  \n",
       "\n",
       "[42000 rows x 785 columns]>"
      ]
     },
     "execution_count": 3,
     "metadata": {},
     "output_type": "execute_result"
    }
   ],
   "source": [
    "# Load MNIST data from a CSV file\n",
    "mnist_df = pd.read_csv('train.csv')\n",
    "mnist_df.head"
   ]
  },
  {
   "cell_type": "code",
   "execution_count": 4,
   "metadata": {},
   "outputs": [
    {
     "data": {
      "text/plain": [
       "(42000,)"
      ]
     },
     "execution_count": 4,
     "metadata": {},
     "output_type": "execute_result"
    }
   ],
   "source": [
    "# Extract features (pixel values) and labels from the DataFrame\n",
    "X, y = mnist_df[\"label\"], mnist_df.drop(columns=[\"label\"])\n",
    "X.shape"
   ]
  },
  {
   "cell_type": "code",
   "execution_count": 5,
   "metadata": {},
   "outputs": [
    {
     "data": {
      "text/plain": [
       "(42000, 784)"
      ]
     },
     "execution_count": 5,
     "metadata": {},
     "output_type": "execute_result"
    }
   ],
   "source": [
    "y.shape"
   ]
  },
  {
   "cell_type": "code",
   "execution_count": 6,
   "metadata": {},
   "outputs": [
    {
     "data": {
      "image/png": "[encoded data removed]",
      "text/plain": [
       "<Figure size 640x480 with 1 Axes>"
      ]
     },
     "metadata": {},
     "output_type": "display_data"
    }
   ],
   "source": [
    "some_digit = y.to_numpy()[random.randint(0, y.shape[1])]\n",
    "\n",
    "#Reshape the digit into a 28 x 28 pixel array to display.\n",
    "some_digit_image = some_digit.reshape(28, 28)\n",
    "\n",
    "#Plot digit\n",
    "\n",
    "plt.imshow(some_digit_image, cmap=\"binary\")\n",
    "plt.axis(\"off\")\n",
    "plt.show()\n",
    "\n",
    "y = y.astype(np.uint8)"
   ]
  },
  {
   "cell_type": "code",
   "execution_count": 7,
   "metadata": {},
   "outputs": [
    {
     "data": {
      "text/plain": [
       "<bound method NDFrame.head of        label  pixel0  pixel1  pixel2  pixel3  pixel4  pixel5  pixel6  pixel7  \\\n",
       "5457       8       0       0       0       0       0       0       0       0   \n",
       "38509      1       0       0       0       0       0       0       0       0   \n",
       "25536      9       0       0       0       0       0       0       0       0   \n",
       "31803      9       0       0       0       0       0       0       0       0   \n",
       "39863      8       0       0       0       0       0       0       0       0   \n",
       "...      ...     ...     ...     ...     ...     ...     ...     ...     ...   \n",
       "16041      4       0       0       0       0       0       0       0       0   \n",
       "4867       2       0       0       0       0       0       0       0       0   \n",
       "28123      7       0       0       0       0       0       0       0       0   \n",
       "3780       7       0       0       0       0       0       0       0       0   \n",
       "7155       5       0       0       0       0       0       0       0       0   \n",
       "\n",
       "       pixel8  ...  pixel774  pixel775  pixel776  pixel777  pixel778  \\\n",
       "5457        0  ...         0         0         0         0         0   \n",
       "38509       0  ...         0         0         0         0         0   \n",
       "25536       0  ...         0         0         0         0         0   \n",
       "31803       0  ...         0         0         0         0         0   \n",
       "39863       0  ...         0         0         0         0         0   \n",
       "...       ...  ...       ...       ...       ...       ...       ...   \n",
       "16041       0  ...         0         0         0         0         0   \n",
       "4867        0  ...         0         0         0         0         0   \n",
       "28123       0  ...         0         0         0         0         0   \n",
       "3780        0  ...         0         0         0         0         0   \n",
       "7155        0  ...         0         0         0         0         0   \n",
       "\n",
       "       pixel779  pixel780  pixel781  pixel782  pixel783  \n",
       "5457          0         0         0         0         0  \n",
       "38509         0         0         0         0         0  \n",
       "25536         0         0         0         0         0  \n",
       "31803         0         0         0         0         0  \n",
       "39863         0         0         0         0         0  \n",
       "...         ...       ...       ...       ...       ...  \n",
       "16041         0         0         0         0         0  \n",
       "4867          0         0         0         0         0  \n",
       "28123         0         0         0         0         0  \n",
       "3780          0         0         0         0         0  \n",
       "7155          0         0         0         0         0  \n",
       "\n",
       "[4200 rows x 785 columns]>"
      ]
     },
     "execution_count": 7,
     "metadata": {},
     "output_type": "execute_result"
    }
   ],
   "source": [
    "# Reduce the dataset to 10% by selecting samples\n",
    "random.seed(42)\n",
    "\n",
    "# Calculate 10% of the dataframe's length\n",
    "sample_size = int(len(mnist_df) * 0.1)\n",
    "\n",
    "# Randomly select 10% of the rows\n",
    "mnist_df_sampled = mnist_df.sample(n=sample_size, random_state=42)\n",
    "\n",
    "mnist_df_sampled.head"
   ]
  },
  {
   "cell_type": "code",
   "execution_count": 8,
   "metadata": {},
   "outputs": [
    {
     "data": {
      "text/plain": [
       "<bound method NDFrame.head of 7576     3\n",
       "22316    7\n",
       "30287    6\n",
       "11082    5\n",
       "28540    2\n",
       "        ..\n",
       "2385     0\n",
       "24318    2\n",
       "672      8\n",
       "17516    0\n",
       "34670    0\n",
       "Name: label, Length: 3360, dtype: int64>"
      ]
     },
     "execution_count": 8,
     "metadata": {},
     "output_type": "execute_result"
    }
   ],
   "source": [
    "# Split the data into training and testing sets (80-20 split)\n",
    "# Assuming your dataframe is mnist_df\n",
    "\n",
    "X, y = mnist_df_sampled[\"label\"], mnist_df_sampled.drop(columns=[\"label\"])\n",
    "X_train, X_test, y_train, y_test = train_test_split(X, y, test_size=0.2)\n",
    "\n",
    "X_train.head"
   ]
  },
  {
   "cell_type": "code",
   "execution_count": 9,
   "metadata": {},
   "outputs": [
    {
     "data": {
      "text/plain": [
       "<bound method NDFrame.head of 6994     5\n",
       "18670    0\n",
       "31103    5\n",
       "12006    5\n",
       "7852     4\n",
       "        ..\n",
       "12604    6\n",
       "1608     4\n",
       "38035    8\n",
       "4630     1\n",
       "22108    1\n",
       "Name: label, Length: 840, dtype: int64>"
      ]
     },
     "execution_count": 9,
     "metadata": {},
     "output_type": "execute_result"
    }
   ],
   "source": [
    "X_test.head"
   ]
  },
  {
   "cell_type": "code",
   "execution_count": 10,
   "metadata": {},
   "outputs": [
    {
     "data": {
      "text/plain": [
       "<bound method NDFrame.head of        pixel0  pixel1  pixel2  pixel3  pixel4  pixel5  pixel6  pixel7  pixel8  \\\n",
       "7576        0       0       0       0       0       0       0       0       0   \n",
       "22316       0       0       0       0       0       0       0       0       0   \n",
       "30287       0       0       0       0       0       0       0       0       0   \n",
       "11082       0       0       0       0       0       0       0       0       0   \n",
       "28540       0       0       0       0       0       0       0       0       0   \n",
       "...       ...     ...     ...     ...     ...     ...     ...     ...     ...   \n",
       "2385        0       0       0       0       0       0       0       0       0   \n",
       "24318       0       0       0       0       0       0       0       0       0   \n",
       "672         0       0       0       0       0       0       0       0       0   \n",
       "17516       0       0       0       0       0       0       0       0       0   \n",
       "34670       0       0       0       0       0       0       0       0       0   \n",
       "\n",
       "       pixel9  ...  pixel774  pixel775  pixel776  pixel777  pixel778  \\\n",
       "7576        0  ...         0         0         0         0         0   \n",
       "22316       0  ...         0         0         0         0         0   \n",
       "30287       0  ...         0         0         0         0         0   \n",
       "11082       0  ...         0         0         0         0         0   \n",
       "28540       0  ...         0         0         0         0         0   \n",
       "...       ...  ...       ...       ...       ...       ...       ...   \n",
       "2385        0  ...         0         0         0         0         0   \n",
       "24318       0  ...         0         0         0         0         0   \n",
       "672         0  ...         0         0         0         0         0   \n",
       "17516       0  ...         0         0         0         0         0   \n",
       "34670       0  ...         0         0         0         0         0   \n",
       "\n",
       "       pixel779  pixel780  pixel781  pixel782  pixel783  \n",
       "7576          0         0         0         0         0  \n",
       "22316         0         0         0         0         0  \n",
       "30287         0         0         0         0         0  \n",
       "11082         0         0         0         0         0  \n",
       "28540         0         0         0         0         0  \n",
       "...         ...       ...       ...       ...       ...  \n",
       "2385          0         0         0         0         0  \n",
       "24318         0         0         0         0         0  \n",
       "672           0         0         0         0         0  \n",
       "17516         0         0         0         0         0  \n",
       "34670         0         0         0         0         0  \n",
       "\n",
       "[3360 rows x 784 columns]>"
      ]
     },
     "execution_count": 10,
     "metadata": {},
     "output_type": "execute_result"
    }
   ],
   "source": [
    "y_train.head"
   ]
  },
  {
   "cell_type": "code",
   "execution_count": 11,
   "metadata": {},
   "outputs": [
    {
     "data": {
      "text/plain": [
       "<bound method NDFrame.head of        pixel0  pixel1  pixel2  pixel3  pixel4  pixel5  pixel6  pixel7  pixel8  \\\n",
       "6994        0       0       0       0       0       0       0       0       0   \n",
       "18670       0       0       0       0       0       0       0       0       0   \n",
       "31103       0       0       0       0       0       0       0       0       0   \n",
       "12006       0       0       0       0       0       0       0       0       0   \n",
       "7852        0       0       0       0       0       0       0       0       0   \n",
       "...       ...     ...     ...     ...     ...     ...     ...     ...     ...   \n",
       "12604       0       0       0       0       0       0       0       0       0   \n",
       "1608        0       0       0       0       0       0       0       0       0   \n",
       "38035       0       0       0       0       0       0       0       0       0   \n",
       "4630        0       0       0       0       0       0       0       0       0   \n",
       "22108       0       0       0       0       0       0       0       0       0   \n",
       "\n",
       "       pixel9  ...  pixel774  pixel775  pixel776  pixel777  pixel778  \\\n",
       "6994        0  ...         0         0         0         0         0   \n",
       "18670       0  ...         0         0         0         0         0   \n",
       "31103       0  ...         0         0         0         0         0   \n",
       "12006       0  ...         0         0         0         0         0   \n",
       "7852        0  ...         0         0         0         0         0   \n",
       "...       ...  ...       ...       ...       ...       ...       ...   \n",
       "12604       0  ...         0         0         0         0         0   \n",
       "1608        0  ...         0         0         0         0         0   \n",
       "38035       0  ...         0         0         0         0         0   \n",
       "4630        0  ...         0         0         0         0         0   \n",
       "22108       0  ...         0         0         0         0         0   \n",
       "\n",
       "       pixel779  pixel780  pixel781  pixel782  pixel783  \n",
       "6994          0         0         0         0         0  \n",
       "18670         0         0         0         0         0  \n",
       "31103         0         0         0         0         0  \n",
       "12006         0         0         0         0         0  \n",
       "7852          0         0         0         0         0  \n",
       "...         ...       ...       ...       ...       ...  \n",
       "12604         0         0         0         0         0  \n",
       "1608          0         0         0         0         0  \n",
       "38035         0         0         0         0         0  \n",
       "4630          0         0         0         0         0  \n",
       "22108         0         0         0         0         0  \n",
       "\n",
       "[840 rows x 784 columns]>"
      ]
     },
     "execution_count": 11,
     "metadata": {},
     "output_type": "execute_result"
    }
   ],
   "source": [
    "y_test.head"
   ]
  },
  {
   "cell_type": "code",
   "execution_count": 12,
   "metadata": {},
   "outputs": [
    {
     "data": {
      "text/plain": [
       "<bound method NDFrame.head of 6994     5\n",
       "18670    0\n",
       "31103    5\n",
       "12006    5\n",
       "7852     4\n",
       "        ..\n",
       "12604    6\n",
       "1608     4\n",
       "38035    8\n",
       "4630     1\n",
       "22108    1\n",
       "Name: label, Length: 840, dtype: int64>"
      ]
     },
     "execution_count": 12,
     "metadata": {},
     "output_type": "execute_result"
    }
   ],
   "source": [
    "X_test.head"
   ]
  },
  {
   "cell_type": "code",
   "execution_count": 13,
   "metadata": {},
   "outputs": [],
   "source": [
    "# Create a Random Forest classifier (use the sklearn built-in)\n",
    "\n",
    "# If X and y are Series, convert them to DataFrames\n",
    "if isinstance(X, pd.Series):\n",
    "    X = X.to_frame()\n",
    "if isinstance(y, pd.Series):\n",
    "    y = y.to_frame()\n",
    "\n",
    "# Make sure the splits are DataFrames\n",
    "X_train, X_test = X_train.to_frame(), X_test.to_frame()\n",
    "\n",
    "\n"
   ]
  },
  {
   "cell_type": "code",
   "execution_count": 14,
   "metadata": {},
   "outputs": [
    {
     "name": "stdout",
     "output_type": "stream",
     "text": [
      "Cross-validation scores: [0.80848556 0.81079173 0.81352117 0.81253796 0.81202928]\n",
      "Average cross-validation score: 0.8114731383624878\n"
     ]
    }
   ],
   "source": [
    "from sklearn.metrics import make_scorer, accuracy_score\n",
    "\n",
    "def custom_scorer(y_true, y_pred):\n",
    "    # Custom scoring to handle multioutput\n",
    "    # Ensure y_true and y_pred are numpy arrays\n",
    "    y_true = y_true.values if isinstance(y_true, pd.DataFrame) else y_true\n",
    "    y_pred = y_pred.values if isinstance(y_pred, pd.DataFrame) else y_pred\n",
    "    scores = [accuracy_score(y_true[:, i], y_pred[:, i]) for i in range(y_true.shape[1])]\n",
    "    return sum(scores) / len(scores)\n",
    "\n",
    "custom_accuracy = make_scorer(custom_scorer, greater_is_better=True)\n",
    "\n",
    "rf = RandomForestClassifier()\n",
    "#rf.fit(X_train, y_train)\n",
    "\n",
    "train_scores = cross_val_score(rf, X_train, y_train, cv=5, scoring=custom_accuracy)\n",
    "\n",
    "print(\"Cross-validation scores:\", train_scores)\n",
    "print(\"Average cross-validation score:\", train_scores.mean())"
   ]
  },
  {
   "cell_type": "code",
   "execution_count": 15,
   "metadata": {},
   "outputs": [
    {
     "name": "stdout",
     "output_type": "stream",
     "text": [
      "Cross-validation scores: [0.80947826 0.81847516 0.81776148 0.80928845 0.80647929]\n",
      "Average cross-validation score: 0.8122965257531585\n"
     ]
    }
   ],
   "source": [
    "test_scores = cross_val_score(rf, X_test, y_test, cv=5, scoring=custom_accuracy)\n",
    "print(\"Cross-validation scores:\", test_scores)\n",
    "print(\"Average cross-validation score:\", test_scores.mean())"
   ]
  },
  {
   "cell_type": "code",
   "execution_count": null,
   "metadata": {},
   "outputs": [],
   "source": [
    "# Create and plot validation curves for the Random Forest classifier\n",
    "\n",
    "train_scores, test_scores = validation_curve(\n",
    "    RandomForestClassifier(),\n",
    "    X, y,\n",
    "    param_name=\"n_estimators\",\n",
    "    param_range=np.arange(1, 250, 2),\n",
    "    cv=5,\n",
    "    scoring=\"accuracy\",\n",
    "    n_jobs=-1\n",
    ")\n",
    "\n",
    "print(f\"The average train accuracy is {train_scores.mean():.2f}\")\n",
    "print(f\"The average test accuracy is {test_scores.mean():.2f}\")"
   ]
  },
  {
   "cell_type": "markdown",
   "metadata": {},
   "source": [
    "Please add your Jupyter Notebook in HTML format to the discussion board found under Module 9. You are encouraged to review other students' submissions to check and discuss differences in your approaches. "
   ]
  },
  {
   "cell_type": "markdown",
   "metadata": {},
   "source": []
  }
 ],
 "metadata": {
  "kernelspec": {
   "display_name": "Python 3",
   "language": "python",
   "name": "python3"
  },
  "language_info": {
   "codemirror_mode": {
    "name": "ipython",
    "version": 3
   },
   "file_extension": ".py",
   "mimetype": "text/x-python",
   "name": "python",
   "nbconvert_exporter": "python",
   "pygments_lexer": "ipython3",
   "version": "3.12.7"
  }
 },
 "nbformat": 4,
 "nbformat_minor": 2
}
