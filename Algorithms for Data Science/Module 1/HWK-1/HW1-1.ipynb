{
 "cells": [
  {
   "cell_type": "markdown",
   "metadata": {},
   "source": [
    "## <h3 align=\"center\"> __Johns Hopkins University__</h3>\n",
    "## <h3 align=\"center\">__Whiting School of Engineering__</h3>\n",
    "## <h3 align=\"center\">__Engineering for Professionals__</h3>\n",
    "## <h3 align=\"center\">__685.621 Algorithms for Data Science__</h3>\n",
    "## <h3 align=\"center\">__Homework 1__</h3>\n",
    "## <h3 align=\"center\">__Assigned at the start of Module 1__</h3>\n",
    "## <h3 align=\"center\">__Due at the end of Module 2__</h3><br>\n",
    "## <h3 align=\"center\">__Total Points 100/100__</h3>\n",
    "Class, the below is a standard set of instructions for each HW. We will use this HW assignment as a dry run for HW2, HW3, and HW4. <br><br>\n",
    "All students are encouraged to collaborate in solving problems listed as collaborative. Note, however, that each student is required to write up their solutions individually for all problems in their respective submission. This implies that no single student should post a complete solution to any problem at the beginning of the collaboration process. <br><br>\n",
    "\n",
    "### Unless specifically stated in the problem, you are to develop each algorithm from scratch, that is without the use of built in libraries (i.e. using a scikit-learn module for a support vector classifier)."
   ]
  },
  {
   "cell_type": "markdown",
   "metadata": {},
   "source": [
    "# __1. Module 1 - Chapter 10, 11, 12 Parts a - d Note this is a Collaborative Problem__<br>\n",
    "100 Points Total<br><br>\n",
    "Python has four inbuilt data structures as follows:<br>\n",
    "1. Lists\n",
    "2. Dictionary\n",
    "3. Tuple\n",
    "4. Set <br>\n",
    "\n",
    "For each of these data structures use the Iris data set and provide the following:"
   ]
  },
  {
   "cell_type": "markdown",
   "metadata": {},
   "source": [
    "# (a) [25 points] Lists\n",
    "- Define a \"list\" as comprehensively and accurately as you would find in a dictionary. Provide a clear and concise explanation, covering its essential meaning, characteristics, and any relevant context.\n",
    "- Create a list in Python using the first observation, all features and label from the Iris data set\n",
    "- Show the output with a print statement\n",
    "- Add the second observation of the Iris data set to your list\n",
    "- Show the output of your list with a print statement"
   ]
  },
  {
   "cell_type": "markdown",
   "metadata": {},
   "source": [
    "## Type definition here ##"
   ]
  },
  {
   "cell_type": "code",
   "execution_count": 1,
   "metadata": {},
   "outputs": [],
   "source": [
    "## import libraries\n",
    "\n",
    "## import iris dataset\n"
   ]
  },
  {
   "cell_type": "code",
   "execution_count": 2,
   "metadata": {},
   "outputs": [],
   "source": [
    "## Type code here for the problem ##\n"
   ]
  },
  {
   "cell_type": "markdown",
   "metadata": {},
   "source": [
    "# (b) [25 points] Dictionary\n",
    "- Define a \"dictionary\" as comprehensively and accurately as you would find in a dictionary. Provide a clear and concise explanation, covering its essential meaning, characteristics, and any relevant context.\n",
    "- Create a dictionary in Python using the classes of Setosa, Versicolor and Virginica, allow elements (2 observations per class) to be added\n",
    "- Show the output with a print statement\n",
    "- Add a third observation of the Iris data set for each class\n",
    "- Show the output of your with a print statement"
   ]
  },
  {
   "cell_type": "markdown",
   "metadata": {},
   "source": [
    "## Type definition here ##"
   ]
  },
  {
   "cell_type": "code",
   "execution_count": 23,
   "metadata": {},
   "outputs": [
    {
     "name": "stdout",
     "output_type": "stream",
     "text": [
      "dict{\n",
      "   { 'sepal_length': 5.1, 'sepal_width': 3.5 }: 'setosa'\n",
      "   { 'sepal_length': 4.9, 'sepal_width': 3.0 }: 'setosa'\n",
      "   { 'sepal_length': 4.7, 'sepal_width': 3.2 }: 'setosa'\n",
      "   { 'sepal_length': 4.6, 'sepal_width': 3.1 }: 'setosa'\n",
      "   { 'sepal_length': 5.0, 'sepal_width': 3.6 }: 'setosa'\n",
      "   { 'sepal_length': 5.4, 'sepal_width': 3.9 }: 'setosa'\n",
      "   { 'sepal_length': 4.6, 'sepal_width': 3.4 }: 'setosa'\n",
      "   { 'sepal_length': 5.0, 'sepal_width': 3.4 }: 'setosa'\n",
      "   { 'sepal_length': 4.4, 'sepal_width': 2.9 }: 'setosa'\n",
      "   { 'sepal_length': 4.9, 'sepal_width': 3.1 }: 'setosa'\n",
      "   { 'sepal_length': 5.4, 'sepal_width': 3.7 }: 'setosa'\n",
      "   { 'sepal_length': 4.8, 'sepal_width': 3.4 }: 'setosa'\n",
      "   { 'sepal_length': 4.8, 'sepal_width': 3.0 }: 'setosa'\n",
      "   { 'sepal_length': 4.3, 'sepal_width': 3.0 }: 'setosa'\n",
      "   { 'sepal_length': 5.8, 'sepal_width': 4.0 }: 'setosa'\n",
      "   { 'sepal_length': 5.7, 'sepal_width': 4.4 }: 'setosa'\n",
      "   { 'sepal_length': 5.7, 'sepal_width': 3.8 }: 'setosa'\n",
      "   { 'sepal_length': 5.1, 'sepal_width': 3.8 }: 'setosa'\n",
      "   { 'sepal_length': 5.4, 'sepal_width': 3.4 }: 'setosa'\n",
      "   { 'sepal_length': 5.1, 'sepal_width': 3.7 }: 'setosa'\n",
      "   { 'sepal_length': 4.6, 'sepal_width': 3.6 }: 'setosa'\n",
      "   { 'sepal_length': 5.1, 'sepal_width': 3.3 }: 'setosa'\n",
      "   { 'sepal_length': 5.0, 'sepal_width': 3.0 }: 'setosa'\n",
      "   { 'sepal_length': 5.2, 'sepal_width': 3.5 }: 'setosa'\n",
      "   { 'sepal_length': 5.2, 'sepal_width': 3.4 }: 'setosa'\n",
      "   { 'sepal_length': 4.8, 'sepal_width': 3.1 }: 'setosa'\n",
      "   { 'sepal_length': 5.2, 'sepal_width': 4.1 }: 'setosa'\n",
      "   { 'sepal_length': 5.5, 'sepal_width': 4.2 }: 'setosa'\n",
      "   { 'sepal_length': 5.0, 'sepal_width': 3.2 }: 'setosa'\n",
      "   { 'sepal_length': 5.5, 'sepal_width': 3.5 }: 'setosa'\n",
      "   { 'sepal_length': 4.4, 'sepal_width': 3.0 }: 'setosa'\n",
      "   { 'sepal_length': 5.1, 'sepal_width': 3.4 }: 'setosa'\n",
      "   { 'sepal_length': 5.0, 'sepal_width': 3.5 }: 'setosa'\n",
      "   { 'sepal_length': 4.5, 'sepal_width': 2.3 }: 'setosa'\n",
      "   { 'sepal_length': 4.4, 'sepal_width': 3.2 }: 'setosa'\n",
      "   { 'sepal_length': 4.6, 'sepal_width': 3.2 }: 'setosa'\n",
      "   { 'sepal_length': 5.3, 'sepal_width': 3.7 }: 'setosa'\n",
      "   { 'sepal_length': 5.0, 'sepal_width': 3.3 }: 'setosa'\n",
      "   { 'sepal_length': 7.0, 'sepal_width': 3.2 }: 'versicolor'\n",
      "   { 'sepal_length': 6.4, 'sepal_width': 3.2 }: 'virginica'\n",
      "   { 'sepal_length': 6.9, 'sepal_width': 3.1 }: 'virginica'\n",
      "   { 'sepal_length': 5.5, 'sepal_width': 2.3 }: 'versicolor'\n",
      "   { 'sepal_length': 6.5, 'sepal_width': 2.8 }: 'versicolor'\n",
      "   { 'sepal_length': 5.7, 'sepal_width': 2.8 }: 'versicolor'\n",
      "   { 'sepal_length': 6.3, 'sepal_width': 3.3 }: 'virginica'\n",
      "   { 'sepal_length': 4.9, 'sepal_width': 2.4 }: 'versicolor'\n",
      "   { 'sepal_length': 6.6, 'sepal_width': 2.9 }: 'versicolor'\n",
      "   { 'sepal_length': 5.2, 'sepal_width': 2.7 }: 'versicolor'\n",
      "   { 'sepal_length': 5.0, 'sepal_width': 2.0 }: 'versicolor'\n",
      "   { 'sepal_length': 5.9, 'sepal_width': 3.0 }: 'virginica'\n",
      "   { 'sepal_length': 6.0, 'sepal_width': 2.2 }: 'virginica'\n",
      "   { 'sepal_length': 6.1, 'sepal_width': 2.9 }: 'versicolor'\n",
      "   { 'sepal_length': 5.6, 'sepal_width': 2.9 }: 'versicolor'\n",
      "   { 'sepal_length': 6.7, 'sepal_width': 3.1 }: 'virginica'\n",
      "   { 'sepal_length': 5.6, 'sepal_width': 3.0 }: 'versicolor'\n",
      "   { 'sepal_length': 5.8, 'sepal_width': 2.7 }: 'virginica'\n",
      "   { 'sepal_length': 6.2, 'sepal_width': 2.2 }: 'versicolor'\n",
      "   { 'sepal_length': 5.6, 'sepal_width': 2.5 }: 'versicolor'\n",
      "   { 'sepal_length': 5.9, 'sepal_width': 3.2 }: 'versicolor'\n",
      "   { 'sepal_length': 6.1, 'sepal_width': 2.8 }: 'versicolor'\n",
      "   { 'sepal_length': 6.3, 'sepal_width': 2.5 }: 'virginica'\n",
      "   { 'sepal_length': 6.4, 'sepal_width': 2.9 }: 'versicolor'\n",
      "   { 'sepal_length': 6.6, 'sepal_width': 3.0 }: 'versicolor'\n",
      "   { 'sepal_length': 6.8, 'sepal_width': 2.8 }: 'versicolor'\n",
      "   { 'sepal_length': 6.7, 'sepal_width': 3.0 }: 'virginica'\n",
      "   { 'sepal_length': 6.0, 'sepal_width': 2.9 }: 'versicolor'\n",
      "   { 'sepal_length': 5.7, 'sepal_width': 2.6 }: 'versicolor'\n",
      "   { 'sepal_length': 5.5, 'sepal_width': 2.4 }: 'versicolor'\n",
      "   { 'sepal_length': 6.0, 'sepal_width': 2.7 }: 'versicolor'\n",
      "   { 'sepal_length': 5.4, 'sepal_width': 3.0 }: 'versicolor'\n",
      "   { 'sepal_length': 6.0, 'sepal_width': 3.4 }: 'versicolor'\n",
      "   { 'sepal_length': 6.3, 'sepal_width': 2.3 }: 'versicolor'\n",
      "   { 'sepal_length': 5.5, 'sepal_width': 2.5 }: 'versicolor'\n",
      "   { 'sepal_length': 5.5, 'sepal_width': 2.6 }: 'versicolor'\n",
      "   { 'sepal_length': 6.1, 'sepal_width': 3.0 }: 'virginica'\n",
      "   { 'sepal_length': 5.8, 'sepal_width': 2.6 }: 'versicolor'\n",
      "   { 'sepal_length': 5.0, 'sepal_width': 2.3 }: 'versicolor'\n",
      "   { 'sepal_length': 5.6, 'sepal_width': 2.7 }: 'versicolor'\n",
      "   { 'sepal_length': 5.7, 'sepal_width': 3.0 }: 'versicolor'\n",
      "   { 'sepal_length': 5.7, 'sepal_width': 2.9 }: 'versicolor'\n",
      "   { 'sepal_length': 6.2, 'sepal_width': 2.9 }: 'versicolor'\n",
      "   { 'sepal_length': 5.1, 'sepal_width': 2.5 }: 'versicolor'\n",
      "   { 'sepal_length': 7.1, 'sepal_width': 3.0 }: 'virginica'\n",
      "   { 'sepal_length': 6.3, 'sepal_width': 2.9 }: 'virginica'\n",
      "   { 'sepal_length': 6.5, 'sepal_width': 3.0 }: 'virginica'\n",
      "   { 'sepal_length': 7.6, 'sepal_width': 3.0 }: 'virginica'\n",
      "   { 'sepal_length': 4.9, 'sepal_width': 2.5 }: 'virginica'\n",
      "   { 'sepal_length': 7.3, 'sepal_width': 2.9 }: 'virginica'\n",
      "   { 'sepal_length': 6.7, 'sepal_width': 2.5 }: 'virginica'\n",
      "   { 'sepal_length': 7.2, 'sepal_width': 3.6 }: 'virginica'\n",
      "   { 'sepal_length': 6.5, 'sepal_width': 3.2 }: 'virginica'\n",
      "   { 'sepal_length': 6.4, 'sepal_width': 2.7 }: 'virginica'\n",
      "   { 'sepal_length': 6.8, 'sepal_width': 3.0 }: 'virginica'\n",
      "   { 'sepal_length': 5.7, 'sepal_width': 2.5 }: 'virginica'\n",
      "   { 'sepal_length': 5.8, 'sepal_width': 2.8 }: 'virginica'\n",
      "   { 'sepal_length': 7.7, 'sepal_width': 3.8 }: 'virginica'\n",
      "   { 'sepal_length': 7.7, 'sepal_width': 2.6 }: 'virginica'\n",
      "   { 'sepal_length': 6.9, 'sepal_width': 3.2 }: 'virginica'\n",
      "   { 'sepal_length': 5.6, 'sepal_width': 2.8 }: 'virginica'\n",
      "   { 'sepal_length': 7.7, 'sepal_width': 2.8 }: 'virginica'\n",
      "   { 'sepal_length': 6.3, 'sepal_width': 2.7 }: 'virginica'\n",
      "   { 'sepal_length': 6.7, 'sepal_width': 3.3 }: 'virginica'\n",
      "   { 'sepal_length': 7.2, 'sepal_width': 3.2 }: 'virginica'\n",
      "   { 'sepal_length': 6.2, 'sepal_width': 2.8 }: 'virginica'\n",
      "   { 'sepal_length': 6.4, 'sepal_width': 2.8 }: 'virginica'\n",
      "   { 'sepal_length': 7.2, 'sepal_width': 3.0 }: 'virginica'\n",
      "   { 'sepal_length': 7.4, 'sepal_width': 2.8 }: 'virginica'\n",
      "   { 'sepal_length': 7.9, 'sepal_width': 3.8 }: 'virginica'\n",
      "   { 'sepal_length': 6.3, 'sepal_width': 2.8 }: 'virginica'\n",
      "   { 'sepal_length': 6.1, 'sepal_width': 2.6 }: 'virginica'\n",
      "   { 'sepal_length': 7.7, 'sepal_width': 3.0 }: 'virginica'\n",
      "   { 'sepal_length': 6.3, 'sepal_width': 3.4 }: 'virginica'\n",
      "   { 'sepal_length': 6.4, 'sepal_width': 3.1 }: 'virginica'\n",
      "   { 'sepal_length': 6.0, 'sepal_width': 3.0 }: 'virginica'\n",
      "   { 'sepal_length': 6.8, 'sepal_width': 3.2 }: 'virginica'\n",
      "   { 'sepal_length': 6.2, 'sepal_width': 3.4 }: 'virginica'\n",
      "}\n"
     ]
    },
    {
     "ename": "ValueError",
     "evalue": "could not convert string to float: 'sepal_length'",
     "output_type": "error",
     "traceback": [
      "\u001b[1;31m---------------------------------------------------------------------------\u001b[0m",
      "\u001b[1;31mValueError\u001b[0m                                Traceback (most recent call last)",
      "Cell \u001b[1;32mIn[23], line 34\u001b[0m\n\u001b[0;32m     30\u001b[0m inner_dict\u001b[38;5;241m.\u001b[39mclear\n\u001b[0;32m     31\u001b[0m \u001b[38;5;28;01mfor\u001b[39;00m row \u001b[38;5;129;01min\u001b[39;00m csv_reader:\n\u001b[0;32m     32\u001b[0m     \n\u001b[0;32m     33\u001b[0m     \u001b[38;5;66;03m# append rows of feature data to the inner dict\u001b[39;00m\n\u001b[1;32m---> 34\u001b[0m     inner_dict[\u001b[38;5;124m'\u001b[39m\u001b[38;5;124msepal_length\u001b[39m\u001b[38;5;124m'\u001b[39m] \u001b[38;5;241m=\u001b[39m \u001b[38;5;28mfloat\u001b[39m(row[\u001b[38;5;124m'\u001b[39m\u001b[38;5;124msepal_length\u001b[39m\u001b[38;5;124m'\u001b[39m])\n\u001b[0;32m     35\u001b[0m     inner_dict[\u001b[38;5;124m'\u001b[39m\u001b[38;5;124msepal_width\u001b[39m\u001b[38;5;124m'\u001b[39m] \u001b[38;5;241m=\u001b[39m \u001b[38;5;28mfloat\u001b[39m(row[\u001b[38;5;124m'\u001b[39m\u001b[38;5;124msepal_width\u001b[39m\u001b[38;5;124m'\u001b[39m])\n\u001b[0;32m     36\u001b[0m     inner_dict[\u001b[38;5;124m'\u001b[39m\u001b[38;5;124mpetal_length\u001b[39m\u001b[38;5;124m'\u001b[39m] \u001b[38;5;241m=\u001b[39m \u001b[38;5;28mfloat\u001b[39m(row[\u001b[38;5;124m'\u001b[39m\u001b[38;5;124mpetal_length\u001b[39m\u001b[38;5;124m'\u001b[39m]),\n",
      "\u001b[1;31mValueError\u001b[0m: could not convert string to float: 'sepal_length'"
     ]
    }
   ],
   "source": [
    "## Type code here for the problem ##\n",
    "import csv\n",
    "from typing import Dict\n",
    "\n",
    "def print_dict(outer_dict: Dict[Dict[str, float], str]) -> None:\n",
    "    print(\"dict{\")\n",
    "    for outer_key, outer_value in outer_dict.items():\n",
    "        inner_dict_str = ', '.join([f\"'{inner_key}': {inner_value}\" for inner_key, inner_value in dict(outer_key).items()])\n",
    "        print(f\"   {{ {inner_dict_str} }}: '{outer_value}'\")\n",
    "    print(\"}\")\n",
    "\n",
    "# Initialize the outer dictionary\n",
    "outer_dict = {}\n",
    "inner_dict = {}\n",
    "\n",
    "# Read the CSV file\n",
    "with open('iris.csv', mode='r') as file:\n",
    "    csv_reader = csv.DictReader(file)\n",
    "    for row in csv_reader:\n",
    "        \n",
    "        # append rows of feature data to the inner dict\n",
    "        inner_dict['sepal_length'] = float(row['sepal_length'])\n",
    "        inner_dict['sepal_width'] = float(row['sepal_width'])\n",
    "\n",
    "        # Map the inner dictionary to the species\n",
    "        outer_dict[tuple(inner_dict.items())] = row['species']\n",
    "\n",
    "    print_dict(outer_dict)\n",
    "    file.seek(0)\n",
    "    inner_dict.clear()\n",
    "    for row in csv_reader:\n",
    "        \n",
    "        # append rows of feature data to the inner dict\n",
    "        inner_dict['sepal_length'] = float(row['sepal_length'])\n",
    "        inner_dict['sepal_width'] = float(row['sepal_width'])\n",
    "        inner_dict['petal_length'] = float(row['petal_length']),\n",
    "\n",
    "        # Map the inner dictionary to the species\n",
    "        outer_dict[tuple(inner_dict.items())] = float(row['species'])\n",
    "\n",
    "print_dict(outer_dict)\n",
    "\n"
   ]
  },
  {
   "cell_type": "markdown",
   "metadata": {},
   "source": [
    "# (c) [25 points] Tuple\n",
    "- Define a \"tuple\"\" as comprehensively and accurately as you would find in a dictionary. Provide a clear and concise explanation, covering its essential meaning, characteristics, and any relevant context.\n",
    "- Create a tuple in Python using the classes of Setosa, Versicolor and Virginica, allow elements ( start with 2 observations and 2 features per class) to be added\n",
    "- Show the output with a print statement\n",
    "- Add a third observation and a third feature of the Iris data set for each class\n",
    "- Show the output of your with a print statement"
   ]
  },
  {
   "cell_type": "markdown",
   "metadata": {},
   "source": [
    "## Type definition here ##"
   ]
  },
  {
   "cell_type": "code",
   "execution_count": 4,
   "metadata": {},
   "outputs": [],
   "source": [
    "## Type code for the problem here ##\n"
   ]
  },
  {
   "cell_type": "markdown",
   "metadata": {},
   "source": [
    "# (d) [25 points] Set\n",
    "- Define a \"set\"\" as comprehensively and accurately as you would find in a dictionary. Provide a clear and concise explanation, covering its essential meaning, characteristics, and any relevant context.\n",
    "- Create a set (1st set) in Python using the first observation of the Setosa class allowing elements to be added\n",
    "- Show the output with a print statement\n",
    "- Create another set (2nd set) by adding the second observation of the Setosa class \n",
    "- Show the output of the following operations with the 1st set and 2nd set with a print statement\n",
    "    * Difference\n",
    "    * Intersection\n",
    "    * Union"
   ]
  },
  {
   "cell_type": "markdown",
   "metadata": {},
   "source": [
    "## Type definition here"
   ]
  },
  {
   "cell_type": "code",
   "execution_count": 5,
   "metadata": {},
   "outputs": [],
   "source": [
    "## Type the code for the problem here ##"
   ]
  },
  {
   "cell_type": "markdown",
   "metadata": {},
   "source": [
    "# References\n",
    "[1] Thomas H. Cormen, Charles E. Leiserson, Ronald L. Rivest, and Clifford Stein. Introduction to\n",
    "Algorithms, Third Edition. MIT Press and McGraw-Hill, 2009. ISBN-13: 978-0-262-03384-8<br><br>\n",
    "[2] Thomas H. Cormen. The clrscode and clrscode3e packages for LaTeX2e, Retrived Jan 2010,\n",
    "http://www.cs.dartmouth.edu/ thc/clrscode/<br><br>\n",
    "[3] simpleilearn, Top 90+ Data Science Interview Questions and Answers: Basic to Technical,\n",
    "https://www.simplilearn.com/tutorials/data-science-tutorial/data-science-interview-questions<br><br>\n",
    "[4] simpleilearn, 22 Artificial Intelligence Interview Questions to Prepare,\n",
    "https://www.simplilearn.com/artificial-intelligence-ai-interview-questions-and-answers-article<br><br>\n",
    "[5] Python, Data Structures, https://docs.python.org/3/tutorial/datastructures.html"
   ]
  }
 ],
 "metadata": {
  "interpreter": {
   "hash": "aee8b7b246df8f9039afb4144a1f6fd8d2ca17a180786b69acc140d282b71a49"
  },
  "kernelspec": {
   "display_name": "Python 3.9.1 64-bit",
   "name": "python3"
  },
  "language_info": {
   "codemirror_mode": {
    "name": "ipython",
    "version": 3
   },
   "file_extension": ".py",
   "mimetype": "text/x-python",
   "name": "python",
   "nbconvert_exporter": "python",
   "pygments_lexer": "ipython3",
   "version": "3.11.7"
  },
  "orig_nbformat": 4
 },
 "nbformat": 4,
 "nbformat_minor": 2
}
